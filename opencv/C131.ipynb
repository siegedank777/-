{
 "cells": [
  {
   "cell_type": "code",
   "execution_count": null,
   "id": "a9276c73-47fe-4fd0-9eeb-5fc92a00c9ea",
   "metadata": {},
   "outputs": [],
   "source": [
    "import cv2\n",
    "import numpy as np"
   ]
  },
  {
   "cell_type": "code",
   "execution_count": null,
   "id": "05df15f6-72fc-49a0-982c-37b0f406f1a2",
   "metadata": {},
   "outputs": [],
   "source": [
    "from matplotlib import pyplot as plt"
   ]
  },
  {
   "cell_type": "code",
   "execution_count": null,
   "id": "ac3c3680-22a8-4e04-9174-86942d43b3a2",
   "metadata": {},
   "outputs": [],
   "source": [
    "img = cv2.imread('messi5.jpg')\n",
    "px = img[100,100]\n",
    "px = img"
   ]
  },
  {
   "cell_type": "code",
   "execution_count": null,
   "id": "fa3db47e-c5d3-4506-a3dc-c2429e209394",
   "metadata": {},
   "outputs": [],
   "source": [
    "def pltimage(img):\n",
    "    plt.imshow(img, cmap = 'gray', interpolation = 'bicubic')\n",
    "    plt.xticks([]), plt.yticks([]) # to hide tick values on X and Y axis\n",
    "    plt.show()"
   ]
  },
  {
   "cell_type": "code",
   "execution_count": null,
   "id": "659efcdb-896f-4f9c-a00d-f1192991dac0",
   "metadata": {},
   "outputs": [],
   "source": [
    "pltimage(img)"
   ]
  },
  {
   "cell_type": "code",
   "execution_count": null,
   "id": "b5f8ecb7-6d37-432d-9ccc-3b7e01bc9380",
   "metadata": {},
   "outputs": [],
   "source": [
    "print(img.shape)"
   ]
  },
  {
   "cell_type": "code",
   "execution_count": null,
   "id": "89349665-a363-4868-915b-b858a853c38e",
   "metadata": {},
   "outputs": [],
   "source": [
    "w=100"
   ]
  },
  {
   "cell_type": "code",
   "execution_count": null,
   "id": "a785c825-46d4-4386-9988-38711f6fcc7d",
   "metadata": {},
   "outputs": [],
   "source": [
    "ball=img[100:100+w, 100:100+w]"
   ]
  },
  {
   "cell_type": "code",
   "execution_count": null,
   "id": "0650cf0e-85b2-4718-813e-bc5e695b2f95",
   "metadata": {},
   "outputs": [],
   "source": [
    "pltimage(ball)"
   ]
  },
  {
   "cell_type": "code",
   "execution_count": null,
   "id": "440cf2be-03de-4d3d-8aeb-349dfd2d2eef",
   "metadata": {},
   "outputs": [],
   "source": [
    "img[100:100+w, 150:150+w]=ball"
   ]
  },
  {
   "cell_type": "code",
   "execution_count": null,
   "id": "6e760b4c-c695-4421-8861-01c811786d26",
   "metadata": {},
   "outputs": [],
   "source": [
    "pltimage(img)"
   ]
  },
  {
   "cell_type": "code",
   "execution_count": 41,
   "id": "c21d392f-101a-4ab4-9c4d-be249974214d",
   "metadata": {},
   "outputs": [],
   "source": [
    "b,g,r = cv2.split(img)"
   ]
  },
  {
   "cell_type": "code",
   "execution_count": null,
   "id": "14a63ad9-9ec9-4141-a70c-5dd8aa8e0bf1",
   "metadata": {},
   "outputs": [],
   "source": [
    "b.shape"
   ]
  },
  {
   "cell_type": "code",
   "execution_count": null,
   "id": "ab908488-710f-4d68-9c83-bf35fbaba249",
   "metadata": {},
   "outputs": [],
   "source": [
    "r"
   ]
  },
  {
   "cell_type": "code",
   "execution_count": null,
   "id": "358453db-2b87-4f81-b2e6-ad0a6c5602a2",
   "metadata": {},
   "outputs": [],
   "source": [
    "img = cv2.merge((r,g,b))"
   ]
  },
  {
   "cell_type": "code",
   "execution_count": null,
   "id": "906431fb-0bab-42bd-8507-f628e0a36c42",
   "metadata": {},
   "outputs": [],
   "source": [
    "pltimage(img)"
   ]
  },
  {
   "cell_type": "code",
   "execution_count": null,
   "id": "1a91c542-2a8e-4d5d-89aa-b268c05615b1",
   "metadata": {},
   "outputs": [],
   "source": [
    "BLUE = [255,0,0]\n",
    "img1 = cv2.imread('messi5.jpg')\n",
    "\n",
    "m=50\n",
    "\n",
    "replicate = cv2.copyMakeBorder(img1,10,10,10,10,cv2.BORDER_REPLICATE)\n",
    "reflect = cv2.copyMakeBorder(img1,10,10,10,10,cv2.BORDER_REFLECT)\n",
    "reflect101 = cv2.copyMakeBorder(img1,10,10,10,10,cv2.BORDER_REFLECT_101)\n",
    "wrap = cv2.copyMakeBorder(img1,10,10,10,10,cv2.BORDER_WRAP)\n",
    "constant= cv2.copyMakeBorder(img1,10,10,10,10,cv2.BORDER_CONSTANT,value=BLUE)"
   ]
  },
  {
   "cell_type": "code",
   "execution_count": null,
   "id": "990a4ac9-b3e7-4c50-92fd-4c91cbbe9afa",
   "metadata": {},
   "outputs": [],
   "source": [
    "plt.rcParams[\"figure.figuresize\"]=(20,10)\n",
    "plt.subplot(231),plt.imshow(img1,'gray'),plt.title('ORIGINAL')\n",
    "plt.subplot(232),plt.imshow(replicate,'gray'),plt.title('REPLICATE')\n",
    "plt.subplot(233),plt.imshow(reflect,'gray'),plt.title('REFLECT')\n",
    "plt.subplot(234),plt.imshow(reflect101,'gray'),plt.title('REFLECT_101')\n",
    "plt.subplot(235),plt.imshow(wrap,'gray'),plt.title('WRAP')\n",
    "plt.subplot(236),plt.imshow(constant,'gray'),plt.title('CONSTANT')\n",
    "\n",
    "plt.show()"
   ]
  },
  {
   "cell_type": "code",
   "execution_count": null,
   "id": "6edf0606-0c50-4f76-a3d3-c7fc83f59ce2",
   "metadata": {},
   "outputs": [],
   "source": []
  }
 ],
 "metadata": {
  "kernelspec": {
   "display_name": "Python 3",
   "language": "python",
   "name": "python3"
  },
  "language_info": {
   "codemirror_mode": {
    "name": "ipython",
    "version": 3
   },
   "file_extension": ".py",
   "mimetype": "text/x-python",
   "name": "python",
   "nbconvert_exporter": "python",
   "pygments_lexer": "ipython3",
   "version": "3.9.4"
  }
 },
 "nbformat": 4,
 "nbformat_minor": 5
}
