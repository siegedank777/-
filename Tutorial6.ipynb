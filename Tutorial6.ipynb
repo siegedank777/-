{
 "cells": [
  {
   "cell_type": "markdown",
   "id": "d754dfe4-7f2e-475a-b37a-a03ee1665e71",
   "metadata": {},
   "source": [
    "String Operations"
   ]
  },
  {
   "cell_type": "code",
   "execution_count": 1,
   "id": "b042ec5b-c76b-43fc-8a78-3b627614b033",
   "metadata": {},
   "outputs": [
    {
     "data": {
      "text/plain": [
       "'HELLO'"
      ]
     },
     "execution_count": 1,
     "metadata": {},
     "output_type": "execute_result"
    }
   ],
   "source": [
    "\"hello\".upper()"
   ]
  },
  {
   "cell_type": "code",
   "execution_count": 2,
   "id": "362b5546-8f1c-461e-a9e2-359f9f466250",
   "metadata": {},
   "outputs": [
    {
     "data": {
      "text/plain": [
       "'abc xyz 34'"
      ]
     },
     "execution_count": 2,
     "metadata": {},
     "output_type": "execute_result"
    }
   ],
   "source": [
    "x = \"abc\"\n",
    "y = 34\n",
    "\"%s xyz %d\"% (x, y)"
   ]
  },
  {
   "cell_type": "code",
   "execution_count": 4,
   "id": "9c7687de-4b19-45ee-ac43-58f822f9a2d8",
   "metadata": {},
   "outputs": [
    {
     "name": "stdout",
     "output_type": "stream",
     "text": [
      "abc xyz 34\n"
     ]
    }
   ],
   "source": [
    "print (\"%s xyz %d\"% (\"abc\", 34))"
   ]
  },
  {
   "cell_type": "code",
   "execution_count": 6,
   "id": "40850afb-8bb7-4045-94e9-4038c4655e59",
   "metadata": {},
   "outputs": [
    {
     "name": "stdout",
     "output_type": "stream",
     "text": [
      "abc def\n"
     ]
    }
   ],
   "source": [
    "print(\"abc\",\"def\")"
   ]
  },
  {
   "cell_type": "code",
   "execution_count": null,
   "id": "bc836625-952e-44f8-88ea-203d3e285262",
   "metadata": {},
   "outputs": [],
   "source": []
  },
  {
   "cell_type": "code",
   "execution_count": null,
   "id": "fe9d987f-7098-42ba-9084-128b8e09c31c",
   "metadata": {},
   "outputs": [],
   "source": []
  }
 ],
 "metadata": {
  "kernelspec": {
   "display_name": "Python 3",
   "language": "python",
   "name": "python3"
  },
  "language_info": {
   "codemirror_mode": {
    "name": "ipython",
    "version": 3
   },
   "file_extension": ".py",
   "mimetype": "text/x-python",
   "name": "python",
   "nbconvert_exporter": "python",
   "pygments_lexer": "ipython3",
   "version": "3.9.4"
  }
 },
 "nbformat": 4,
 "nbformat_minor": 5
}
