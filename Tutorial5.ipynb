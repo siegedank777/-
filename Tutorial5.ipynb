{
 "cells": [
  {
   "cell_type": "markdown",
   "id": "4470f122-9595-458f-ab96-eab1016fe09a",
   "metadata": {},
   "source": [
    "Functions in Python"
   ]
  },
  {
   "cell_type": "code",
   "execution_count": 3,
   "id": "2613cf3b-9ffa-4183-98ea-30780cee40de",
   "metadata": {},
   "outputs": [],
   "source": [
    "def myfun(x, y):\n",
    "    return x * y"
   ]
  },
  {
   "cell_type": "code",
   "execution_count": 4,
   "id": "99c174d6-ee90-433c-b474-20d962170108",
   "metadata": {},
   "outputs": [
    {
     "data": {
      "text/plain": [
       "12"
      ]
     },
     "execution_count": 4,
     "metadata": {},
     "output_type": "execute_result"
    }
   ],
   "source": [
    "myfun(3, 4)"
   ]
  },
  {
   "cell_type": "code",
   "execution_count": 11,
   "id": "ab170c30-e524-4c89-b62b-012036d5681c",
   "metadata": {},
   "outputs": [],
   "source": [
    "def myfun(x):\n",
    "    return x*3"
   ]
  },
  {
   "cell_type": "code",
   "execution_count": 9,
   "id": "f0207407-9469-4a12-94f0-54eb5cd0417f",
   "metadata": {},
   "outputs": [],
   "source": [
    "\n",
    "def apply(q, x):\n",
    "    return q(x)"
   ]
  },
  {
   "cell_type": "code",
   "execution_count": 12,
   "id": "f27f2e65-a933-46f8-ae5a-a480fe9cc077",
   "metadata": {},
   "outputs": [
    {
     "data": {
      "text/plain": [
       "21"
      ]
     },
     "execution_count": 12,
     "metadata": {},
     "output_type": "execute_result"
    }
   ],
   "source": [
    "apply(myfun, 7)"
   ]
  },
  {
   "cell_type": "code",
   "execution_count": 14,
   "id": "50f49d42-b328-4f5c-8fac-837c9a463ab8",
   "metadata": {},
   "outputs": [
    {
     "data": {
      "text/plain": [
       "28"
      ]
     },
     "execution_count": 14,
     "metadata": {},
     "output_type": "execute_result"
    }
   ],
   "source": [
    "apply(lambda z: z* 4, 7)"
   ]
  },
  {
   "cell_type": "code",
   "execution_count": 18,
   "id": "5abe5956-dfcb-4336-b53d-f357d9c974c7",
   "metadata": {},
   "outputs": [],
   "source": [
    "def myfun(b, c=3, d=\"hello\"):return b + c"
   ]
  },
  {
   "cell_type": "code",
   "execution_count": 19,
   "id": "0f7494ac-4076-4feb-917d-b3c620150129",
   "metadata": {},
   "outputs": [
    {
     "data": {
      "text/plain": [
       "8"
      ]
     },
     "execution_count": 19,
     "metadata": {},
     "output_type": "execute_result"
    }
   ],
   "source": [
    "myfun(5,3,\"hello\")"
   ]
  },
  {
   "cell_type": "code",
   "execution_count": 20,
   "id": "0b03a9b9-6900-453b-b24d-5dabe150d269",
   "metadata": {},
   "outputs": [],
   "source": [
    "def myfun(a, b, c):return a-b"
   ]
  },
  {
   "cell_type": "code",
   "execution_count": 21,
   "id": "7d91f0d2-35d1-4b23-b746-24a714f75604",
   "metadata": {},
   "outputs": [
    {
     "data": {
      "text/plain": [
       "1"
      ]
     },
     "execution_count": 21,
     "metadata": {},
     "output_type": "execute_result"
    }
   ],
   "source": [
    "myfun(2, 1, 43)"
   ]
  },
  {
   "cell_type": "code",
   "execution_count": 22,
   "id": "d5f2eab0-c9f5-4dc8-95f9-45e04412332e",
   "metadata": {},
   "outputs": [
    {
     "data": {
      "text/plain": [
       "1"
      ]
     },
     "execution_count": 22,
     "metadata": {},
     "output_type": "execute_result"
    }
   ],
   "source": [
    "myfun(c=43, b=1, a=2)"
   ]
  },
  {
   "cell_type": "code",
   "execution_count": null,
   "id": "f4682b28-b13d-47fd-b5f8-0d23bbc6ae37",
   "metadata": {},
   "outputs": [],
   "source": []
  }
 ],
 "metadata": {
  "kernelspec": {
   "display_name": "Python 3",
   "language": "python",
   "name": "python3"
  },
  "language_info": {
   "codemirror_mode": {
    "name": "ipython",
    "version": 3
   },
   "file_extension": ".py",
   "mimetype": "text/x-python",
   "name": "python",
   "nbconvert_exporter": "python",
   "pygments_lexer": "ipython3",
   "version": "3.9.4"
  }
 },
 "nbformat": 4,
 "nbformat_minor": 5
}
