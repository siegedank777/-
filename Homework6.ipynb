{
 "cells": [
  {
   "cell_type": "code",
   "execution_count": 37,
   "id": "251a289c-f9c2-4ccf-beb8-4ba00149b1d5",
   "metadata": {},
   "outputs": [],
   "source": [
    "import cv2\n",
    "import numpy as np"
   ]
  },
  {
   "cell_type": "code",
   "execution_count": 38,
   "id": "c28084db-8f25-4e05-9b66-c1a7e9a1f0c4",
   "metadata": {},
   "outputs": [],
   "source": [
    "# 비디오 파일 열기\n",
    "cap = cv2.VideoCapture('tracking1.avi')\n",
    "\n",
    "if not cap.isOpened():\n",
    "    print('Video open failed!')\n",
    "    sys.exit()\n",
    "\n",
    "# 배경 영상 등록\n",
    "ret, back = cap.read()\n",
    "\n",
    "if not ret:\n",
    "    print('Background image registration failed!')\n",
    "    sys.exit()\n",
    "\n",
    "# back: uint8 배경, fback: float32 배경\n",
    "\n",
    "# 흑백으로 변환\n",
    "back = cv2.cvtColor(back, cv2.COLOR_BGR2GRAY)\n",
    "\n",
    "# 노이즈 제거\n",
    "back = cv2.GaussianBlur(back, (0, 0), 1.0)\n",
    "\n",
    "# float32로 변경\n",
    "fback = back.astype(np.float32)\n",
    "\n",
    "# 비디오 매 프레임 처리\n",
    "while True:\n",
    "    ret, frame = cap.read()\n",
    "\n",
    "    if not ret:\n",
    "        break\n",
    "\n",
    "    img1 = cv2.imread('20201105_125557.png', 0)      # query Image\n",
    "    gray = cv2.cvtColor(frame, cv2.COLOR_BGR2GRAY)   # Vedio Frame Image\n",
    "\n",
    "    # Initiate SIFT detector\n",
    "    #sift = cv2.SIFT()\n",
    "    sift = cv2.SIFT_create()\n",
    "    # find the keypoints and descriptors with SIFT\n",
    "    kp1, des1 = sift.detectAndCompute(img1, None)\n",
    "    kp2, des2 = sift.detectAndCompute(gray, None)\n",
    "\n",
    "    img1v = cv2.drawKeypoints(img1, kp1, img1, flags=cv2.DRAW_MATCHES_FLAGS_DRAW_RICH_KEYPOINTS) #,flags=cv2.DRAW_MATCHES_FLAGS_DRAW_RICH_KEYPOINTS\n",
    "    img2v = cv2.drawKeypoints(gray, kp2, gray, flags=cv2.DRAW_MATCHES_FLAGS_DRAW_RICH_KEYPOINTS)\n",
    "    \n",
    "    # BFMatcher with default params\n",
    "    bf = cv2.BFMatcher()\n",
    "    matches = bf.knnMatch(des1, des2, k=2)\n",
    "\n",
    "\n",
    "\n",
    "    # Apply ratio test\n",
    "    good = []\n",
    "    for m,n in matches:\n",
    "        #print(m.distance, n.distance)\n",
    "        if m.distance < 0.85*n.distance:\n",
    "            good.append([m])\n",
    "\n",
    "    # cv2.drawMatchesKnn expects list of lists as matches.\n",
    "    img3 = cv2.drawMatchesKnn(img1,kp1,gray,kp2,good,None,flags=2)\n",
    "    \n",
    "    #이미지출력\n",
    "    cv2.imshow(\"image\",img3)\n",
    "\n",
    "    if cv2.waitKey(30) == 27:\n",
    "        break\n",
    "\n",
    "cap.release()\n",
    "cv2.destroyAllWindows()"
   ]
  },
  {
   "cell_type": "code",
   "execution_count": 32,
   "id": "a5694cf3-c7fa-44cf-bdac-748a74b9fc60",
   "metadata": {},
   "outputs": [
    {
     "name": "stdout",
     "output_type": "stream",
     "text": [
      "<KeyPoint 000001379DD04F60>\n"
     ]
    }
   ],
   "source": [
    "print(kp1[0])"
   ]
  },
  {
   "cell_type": "code",
   "execution_count": null,
   "id": "f4fc7a97-efce-4672-a901-843964dbd0aa",
   "metadata": {},
   "outputs": [],
   "source": []
  },
  {
   "cell_type": "code",
   "execution_count": null,
   "id": "67fe5455-5bac-46ab-a13c-3d7f717fd5ea",
   "metadata": {},
   "outputs": [],
   "source": []
  }
 ],
 "metadata": {
  "kernelspec": {
   "display_name": "Python 3",
   "language": "python",
   "name": "python3"
  },
  "language_info": {
   "codemirror_mode": {
    "name": "ipython",
    "version": 3
   },
   "file_extension": ".py",
   "mimetype": "text/x-python",
   "name": "python",
   "nbconvert_exporter": "python",
   "pygments_lexer": "ipython3",
   "version": "3.9.4"
  }
 },
 "nbformat": 4,
 "nbformat_minor": 5
}
