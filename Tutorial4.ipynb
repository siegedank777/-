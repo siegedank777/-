{
 "cells": [
  {
   "cell_type": "code",
   "execution_count": 43,
   "id": "8638fc8b-a190-4a6f-8168-9b67314b6673",
   "metadata": {},
   "outputs": [],
   "source": [
    "x = 3"
   ]
  },
  {
   "cell_type": "code",
   "execution_count": 44,
   "id": "e5ae8b7b-1877-44ad-9e95-3037b94bf0fc",
   "metadata": {},
   "outputs": [
    {
     "name": "stdout",
     "output_type": "stream",
     "text": [
      "3still in the loop\n",
      "4still in the loop\n"
     ]
    }
   ],
   "source": [
    "while x < 5:\n",
    "    print(str(x)+\"still in the loop\")\n",
    "    x = x + 1"
   ]
  },
  {
   "cell_type": "code",
   "execution_count": 45,
   "id": "721bdc78-7cdb-4af1-b6cc-151b29fb7c93",
   "metadata": {},
   "outputs": [],
   "source": [
    "x = 6"
   ]
  },
  {
   "cell_type": "code",
   "execution_count": 46,
   "id": "a7c31c84-200e-482f-a8ef-9d2eca3b0b40",
   "metadata": {},
   "outputs": [],
   "source": [
    "while x < 5:\n",
    "    print (str(x)+\"still in the loop\")"
   ]
  },
  {
   "cell_type": "code",
   "execution_count": null,
   "id": "6ee5419b-4687-4143-9b58-ff928506a7f9",
   "metadata": {},
   "outputs": [],
   "source": []
  }
 ],
 "metadata": {
  "kernelspec": {
   "display_name": "Python 3",
   "language": "python",
   "name": "python3"
  },
  "language_info": {
   "codemirror_mode": {
    "name": "ipython",
    "version": 3
   },
   "file_extension": ".py",
   "mimetype": "text/x-python",
   "name": "python",
   "nbconvert_exporter": "python",
   "pygments_lexer": "ipython3",
   "version": "3.9.4"
  }
 },
 "nbformat": 4,
 "nbformat_minor": 5
}
