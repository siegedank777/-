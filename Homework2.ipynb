{
 "cells": [
  {
   "cell_type": "code",
   "execution_count": 3,
   "id": "e6511c6f-535f-456d-a912-9c9d979b78a1",
   "metadata": {},
   "outputs": [],
   "source": [
    "import cv2\n",
    "import numpy as np"
   ]
  },
  {
   "cell_type": "code",
   "execution_count": 21,
   "id": "c4cdb5f3-69a5-4f7d-a990-e7c1537a2931",
   "metadata": {},
   "outputs": [],
   "source": [
    "def nothing(x):\n",
    "    pass"
   ]
  },
  {
   "cell_type": "code",
   "execution_count": 24,
   "id": "bcb073f1-5840-4e72-97ce-d54ac20f0ff1",
   "metadata": {},
   "outputs": [],
   "source": [
    "cap = cv2.VideoCapture('tracking1.avi')"
   ]
  },
  {
   "cell_type": "code",
   "execution_count": 25,
   "id": "1a00c8a5-c606-468b-836c-e01b263011bb",
   "metadata": {},
   "outputs": [
    {
     "ename": "SyntaxError",
     "evalue": "invalid syntax (<ipython-input-25-cf1bc94f86ac>, line 3)",
     "output_type": "error",
     "traceback": [
      "\u001b[1;36m  File \u001b[1;32m\"<ipython-input-25-cf1bc94f86ac>\"\u001b[1;36m, line \u001b[1;32m3\u001b[0m\n\u001b[1;33m    if result == True\u001b[0m\n\u001b[1;37m                     ^\u001b[0m\n\u001b[1;31mSyntaxError\u001b[0m\u001b[1;31m:\u001b[0m invalid syntax\n"
     ]
    }
   ],
   "source": [
    "while(1):\n",
    "    result, frame = cap.read()\n",
    "    if result == True\n",
    "        hsv = cv2.cvtColor(frame, cv2.COLOR_BGR2HSV)\n",
    "\n",
    "        lower_blue = np.array([140, 50, 50])\n",
    "        upper_blue = np.array([200, 255, 255])\n",
    "\n",
    "        mask = cv2.inRange(hsv, lower_blue, upper_blue)\n",
    "\n",
    "        result = cv2.bitwise_and(frame, frame, mask=mask)\n",
    "\n",
    "        cv2.imshow(\"frame\", frame)\n",
    "        cv2.imshow(\"mask\", mask)\n",
    "        cv2.imshow(\"result\", result)\n",
    "    \n",
    "    \n",
    "cv2.destroyAllWindows()"
   ]
  },
  {
   "cell_type": "code",
   "execution_count": null,
   "id": "23827f9e-2ca1-436c-ac25-b98d2e98fb06",
   "metadata": {},
   "outputs": [],
   "source": []
  }
 ],
 "metadata": {
  "kernelspec": {
   "display_name": "Python 3",
   "language": "python",
   "name": "python3"
  },
  "language_info": {
   "codemirror_mode": {
    "name": "ipython",
    "version": 3
   },
   "file_extension": ".py",
   "mimetype": "text/x-python",
   "name": "python",
   "nbconvert_exporter": "python",
   "pygments_lexer": "ipython3",
   "version": "3.9.4"
  }
 },
 "nbformat": 4,
 "nbformat_minor": 5
}
